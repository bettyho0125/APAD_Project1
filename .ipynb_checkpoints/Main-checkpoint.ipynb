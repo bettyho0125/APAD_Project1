{
 "cells": [
  {
   "cell_type": "code",
   "execution_count": 1,
   "metadata": {},
   "outputs": [],
   "source": [
    "# Import sqlite3 module\n",
    "import sqlite3"
   ]
  },
  {
   "cell_type": "code",
   "execution_count": 2,
   "metadata": {},
   "outputs": [
    {
     "ename": "NameError",
     "evalue": "name 'sqlite3' is not defined",
     "output_type": "error",
     "traceback": [
      "\u001b[0;31m---------------------------------------------------------------------------\u001b[0m",
      "\u001b[0;31mNameError\u001b[0m                                 Traceback (most recent call last)",
      "\u001b[0;32m<ipython-input-2-f1a1b8c48d80>\u001b[0m in \u001b[0;36m<module>\u001b[0;34m\u001b[0m\n\u001b[1;32m      1\u001b[0m \u001b[0;31m# Chetna-Connect to the playtime database\u001b[0m\u001b[0;34m\u001b[0m\u001b[0;34m\u001b[0m\u001b[0;34m\u001b[0m\u001b[0m\n\u001b[0;32m----> 2\u001b[0;31m \u001b[0mdb\u001b[0m\u001b[0;34m=\u001b[0m\u001b[0msqlite3\u001b[0m\u001b[0;34m.\u001b[0m\u001b[0mconnect\u001b[0m\u001b[0;34m(\u001b[0m\u001b[0;34m\"/Users/livestrong19/APAD/APAD_Project1/PickupSport.db\"\u001b[0m\u001b[0;34m)\u001b[0m\u001b[0;34m\u001b[0m\u001b[0;34m\u001b[0m\u001b[0m\n\u001b[0m\u001b[1;32m      3\u001b[0m \u001b[0mcursor\u001b[0m \u001b[0;34m=\u001b[0m \u001b[0mdb\u001b[0m\u001b[0;34m.\u001b[0m\u001b[0mcursor\u001b[0m\u001b[0;34m(\u001b[0m\u001b[0;34m)\u001b[0m\u001b[0;34m\u001b[0m\u001b[0;34m\u001b[0m\u001b[0m\n",
      "\u001b[0;31mNameError\u001b[0m: name 'sqlite3' is not defined"
     ]
    }
   ],
   "source": [
    "# Chetna-Connect to the playtime database\n",
    "db=sqlite3.connect(\"/Users/livestrong19/APAD/APAD_Project1/PickupSport.db\")\n",
    "cursor = db.cursor()"
   ]
  },
  {
   "cell_type": "code",
   "execution_count": 2,
   "metadata": {},
   "outputs": [],
   "source": [
    "# Betty-Connect to the playtime database\n",
    "db=sqlite3.connect(\"/Users/peihsinho/sqlite/db/PickupSport.db\")\n",
    "cursor = db.cursor()"
   ]
  },
  {
   "cell_type": "code",
   "execution_count": 5,
   "metadata": {},
   "outputs": [
    {
     "data": {
      "text/plain": [
       "<sqlite3.Cursor at 0x10d5728f0>"
      ]
     },
     "execution_count": 5,
     "metadata": {},
     "output_type": "execute_result"
    }
   ],
   "source": [
    "# Drop Venues table\n",
    "cursor.execute('''DROP TABLE Venues''')\n",
    "db.commit()"
   ]
  },
  {
   "cell_type": "code",
   "execution_count": 7,
   "metadata": {},
   "outputs": [],
   "source": [
    "# Create Venues table\n",
    "cursor.execute('''\n",
    "    CREATE TABLE Venues\n",
    "                        (VenueId INTEGER PRIMARY KEY, \n",
    "                        VenueName TEXT NOT NULL,\n",
    "                        VenueZipcode INTEGER NOT NULL,\n",
    "                        VenueAddress TEXT NOT NULL,\n",
    "                        VenueOpeningTime TIME NOT NULL,\n",
    "                        VenueClosingTime TIME NOT NULL,\n",
    "                        VenueTimeSlots INTEGER NOT NULL,\n",
    "                        VenueSports TEXT,\n",
    "                        CHECK (LENGTH(VenueZipcode)==5 AND LENGTH(VenueName)<=15 AND LENGTH(VenueAddress)<=30))\n",
    "                        ''')\n",
    "db.commit()"
   ]
  },
  {
   "cell_type": "code",
   "execution_count": 4,
   "metadata": {},
   "outputs": [],
   "source": [
    "# Create Users table\n",
    "\n",
    "cursor.execute('''\n",
    "    CREATE TABLE users(uid INTEGER PRIMARY KEY AUTOINCREMENT, uname TEXT,\n",
    "                       uphone TEXT, uemail TEXT, upassword TEXT, uZipcode TEXT, admin BOOLEAN)\n",
    "''')\n",
    "db.commit()\n",
    "\n",
    "## delete the table\n",
    "# cursor.execute('''DROP TABLE users''')\n",
    "# db.commit()"
   ]
  },
  {
   "cell_type": "code",
   "execution_count": 16,
   "metadata": {},
   "outputs": [],
   "source": [
    "# Create Events table\n",
    "cursor.execute('''\n",
    "    CREATE TABLE Events\n",
    "                        (EventId INTEGER PRIMARY KEY AUTOINCREMENT, \n",
    "                        EventName TEXT NOT NULL,\n",
    "                        EventDate DATE NOT NULL,\n",
    "                        EventSport TEXT NOT NULL,\n",
    "                        EventTeamSize INTEGER NOT NULL,\n",
    "                        EventSpotsLeft INTEGER NOT NULL,\n",
    "                        EventDesc TEXT,\n",
    "                        VenueId INTEGER,\n",
    "                        EventHost TEXT NOT NULL,\n",
    "                        EventStartTime TIME NOT NULL,\n",
    "                        EventEndTime TIME NOT NULL,\n",
    "                        FOREIGN KEY (EventHost) references users(uid),\n",
    "                        FOREIGN KEY (VenueId) REFERENCES Venues(VenueId))\n",
    "''')\n",
    "db.commit()\n",
    "\n",
    "## delete the table\n",
    "# cursor.execute('''DROP TABLE Events''')\n",
    "# db.commit()"
   ]
  },
  {
   "cell_type": "code",
   "execution_count": 18,
   "metadata": {},
   "outputs": [],
   "source": [
    "# Create User_Events table\n",
    "cursor.execute('''\n",
    "    CREATE TABLE User_Events\n",
    "                        (EventId Integer,\n",
    "                         uid Integer,\n",
    "                         FOREIGN KEY (EventId) REFERENCES Events(EventId), \n",
    "                         FOREIGN KEY (uid) REFERENCES users(uid))\n",
    "''')\n",
    "db.commit()\n",
    "\n",
    "## delete the table\n",
    "# cursor.execute('''DROP TABLE Events''')\n",
    "# db.commit()"
   ]
  },
  {
   "cell_type": "code",
   "execution_count": null,
   "metadata": {},
   "outputs": [
    {
     "name": "stdout",
     "output_type": "stream",
     "text": [
      "Enter your name: aergrt\n",
      "Enter your phone: aerg\n",
      "Enter your email: aer\n",
      "Enter your password: arth\n",
      "Enter your gender: arth\n"
     ]
    }
   ],
   "source": [
    "##create admin first\n",
    "def addAdmin(uname, uphone, uemail, uassword, uZipcode):\n",
    "    admin = True\n",
    "    value = [(uname, uphone, uemail, upassword, uZipcode ,admin)]\n",
    "    cursor.executemany('''INSERT INTO users(uname, uphone, uemail, upassword, uZipcode ,admin) \n",
    "                  VALUES(?, ?, ?, ?, ?, ?, ?)''', value)\n",
    "    \n",
    "# def checkPhone():\n",
    "#     phone = input(\"Enter your phone: \")\n",
    "#     print(phone)\n",
    "#     print(len(phone))\n",
    "#     print(phone.isdigit())\n",
    "#     if len(phone) == 10 and phone.isdigit():\n",
    "#         print(phone)\n",
    "#         return phone\n",
    "#     else:\n",
    "#         print(\"please enter again\")\n",
    "#         checkPhone()\n",
    "\n",
    "# def checkEmail(email):\n",
    "#     regex = '\\w+[.|\\w]\\w+@\\w+[.]\\w+[.|\\w+]\\w+'\n",
    "#     print(re.search(regex, email))\n",
    "#     # if !(re.match(regex, email)):\n",
    "#     #     print(\"please enter again\")\n",
    "    \n",
    "# def checkGender():\n",
    "#     gender = input(\"Enter your gender(F/M): \")\n",
    "#     if gender != 'F' and gender != 'M':\n",
    "#         print(\"please enter again\")\n",
    "#         checkGender()\n",
    "#         print(gender)\n",
    "#     else:\n",
    "#         return gender\n",
    "    \n",
    "uname = input(\"Enter your name: \")\n",
    "phone = input(\"Enter your phone: \")\n",
    "email = input(\"Enter your email: \")\n",
    "password = input(\"Enter your password: \")\n",
    "gender = input(\"Enter your gender: \")\n",
    "location = input(\"Enter your location: \")\n",
    "\n",
    "addAdmin(uname, phone, email, password, gender, location);"
   ]
  },
  {
   "cell_type": "code",
   "execution_count": 7,
   "metadata": {},
   "outputs": [],
   "source": [
    "db.commit()"
   ]
  },
  {
   "cell_type": "code",
   "execution_count": null,
   "metadata": {},
   "outputs": [],
   "source": [
    "cursor.execute('''SELECT admin FROM users WHERE uid = ?''', (admin.id))"
   ]
  },
  {
   "cell_type": "code",
   "execution_count": null,
   "metadata": {},
   "outputs": [],
   "source": [
    "def addUser(admin.id uname, phone, email, password, gender, location):\n",
    "    cursor.execute('''SELECT admin FROM users WHERE uid = ?''', (admin.id))\n",
    "    value = [(uname, phone, email, password, gender, location, admin)]\n",
    "    print(value)\n",
    "\n",
    "    cursor.executemany('''INSERT INTO users(uname, phone, email, password, gender, location, admin) \n",
    "                  VALUES(?, ?, ?, ?, ?, ?, ?)''', value)\n",
    "    \n",
    "# uname = input(\"Enter your name: \")\n",
    "# phone = input(\"Enter your phone: \")\n",
    "# email = input(\"Enter your email: \")\n",
    "# password = input(\"Enter your password: \")\n",
    "# gender = input(\"Enter your gender: \")\n",
    "# location = input(\"Enter your location: \")\n",
    "addUser(uname, phone, email, password, gender, location);"
   ]
  },
  {
   "cell_type": "code",
   "execution_count": null,
   "metadata": {},
   "outputs": [],
   "source": [
    "db.commit()"
   ]
  },
  {
   "cell_type": "code",
   "execution_count": 44,
   "metadata": {},
   "outputs": [],
   "source": [
    "# class User:\n",
    "    \n",
    "#     def __init__(self, uname, phone, email, password, gender, location, admin):\n",
    "#         self.uname = uname\n",
    "#         self.phone = phone\n",
    "#         self.email = email\n",
    "#         self.password = password\n",
    "#         self.gender = phone\n",
    "#         self.location = location\n",
    "#         self.admin = admin\n",
    "    \n",
    "#     def addAdmin(self):\n",
    "#         value = [(self.uname, self.phone, self.email, self.password, self.gender, self.location, self.admin)]\n",
    "#         print(value)\n",
    "#         cursor.executemany('''INSERT INTO users(uname, phone, email, password, gender, location, admin) \n",
    "#                       VALUES(?, ?, ?, ?, ?, ?, ?)''', value)\n",
    "#         db.commit()\n",
    "        \n",
    "#     def addUser(self):\n",
    "#         value = [(self.uname, self.phone, self.email, self.password, self.gender, self.location, self.admin)]\n",
    "#         cursor.executemany('''INSERT INTO users(uname, phone, email, password, gender, location, admin) \n",
    "#                       VALUES(?, ?, ?, ?, ?, ?, ?)''', value)\n",
    "#         db.commit()\n",
    "        \n",
    "#     def removeEvent(self):\n",
    "#         if self.admin == True:\n",
    "#             cursor.execute('''DELETE FROM Events WHERE AlbumId > 200''')\n",
    "#             db.commit()"
   ]
  },
  {
   "cell_type": "code",
   "execution_count": 47,
   "metadata": {},
   "outputs": [],
   "source": [
    "# def inputData():\n",
    "#     uname = input(\"Enter your name: \")\n",
    "#     phone = input(\"Enter your phone: \")\n",
    "#     email = input(\"Enter your email: \")\n",
    "#     password = input(\"Enter your password: \")\n",
    "#     gender = input(\"Enter your gender: \")\n",
    "#     location = input(\"Enter your location: \")\n",
    "#     admin = input(\"Enter your admin:(True/False) \")"
   ]
  },
  {
   "cell_type": "code",
   "execution_count": 54,
   "metadata": {},
   "outputs": [
    {
     "name": "stdout",
     "output_type": "stream",
     "text": [
      "[('qrgtyh', 'trh', 'th', 'ah', 'trh', 'a5r', <__main__.User object at 0x10b524588>)]\n"
     ]
    },
    {
     "ename": "InterfaceError",
     "evalue": "Error binding parameter 6 - probably unsupported type.",
     "output_type": "error",
     "traceback": [
      "\u001b[0;31m---------------------------------------------------------------------------\u001b[0m",
      "\u001b[0;31mInterfaceError\u001b[0m                            Traceback (most recent call last)",
      "\u001b[0;32m<ipython-input-54-4fe2ac3797ef>\u001b[0m in \u001b[0;36m<module>\u001b[0;34m\u001b[0m\n\u001b[1;32m      8\u001b[0m \u001b[0;34m\u001b[0m\u001b[0m\n\u001b[1;32m      9\u001b[0m \u001b[0madmin\u001b[0m \u001b[0;34m=\u001b[0m \u001b[0mUser\u001b[0m\u001b[0;34m(\u001b[0m\u001b[0muname\u001b[0m\u001b[0;34m,\u001b[0m \u001b[0mphone\u001b[0m\u001b[0;34m,\u001b[0m \u001b[0memail\u001b[0m\u001b[0;34m,\u001b[0m \u001b[0mpassword\u001b[0m\u001b[0;34m,\u001b[0m \u001b[0mgender\u001b[0m\u001b[0;34m,\u001b[0m \u001b[0mlocation\u001b[0m\u001b[0;34m,\u001b[0m \u001b[0madmin\u001b[0m\u001b[0;34m)\u001b[0m\u001b[0;34m\u001b[0m\u001b[0;34m\u001b[0m\u001b[0m\n\u001b[0;32m---> 10\u001b[0;31m \u001b[0madmin\u001b[0m\u001b[0;34m.\u001b[0m\u001b[0maddAdmin\u001b[0m\u001b[0;34m(\u001b[0m\u001b[0;34m)\u001b[0m\u001b[0;34m\u001b[0m\u001b[0;34m\u001b[0m\u001b[0m\n\u001b[0m",
      "\u001b[0;32m<ipython-input-44-f377cdc9f541>\u001b[0m in \u001b[0;36maddAdmin\u001b[0;34m(self)\u001b[0m\n\u001b[1;32m     21\u001b[0m         \u001b[0mprint\u001b[0m\u001b[0;34m(\u001b[0m\u001b[0mvalue\u001b[0m\u001b[0;34m)\u001b[0m\u001b[0;34m\u001b[0m\u001b[0;34m\u001b[0m\u001b[0m\n\u001b[1;32m     22\u001b[0m         cursor.executemany('''INSERT INTO users(uname, phone, email, password, gender, location, admin) \n\u001b[0;32m---> 23\u001b[0;31m                       VALUES(?, ?, ?, ?, ?, ?, ?)''', value)\n\u001b[0m\u001b[1;32m     24\u001b[0m         \u001b[0mdb\u001b[0m\u001b[0;34m.\u001b[0m\u001b[0mcommit\u001b[0m\u001b[0;34m(\u001b[0m\u001b[0;34m)\u001b[0m\u001b[0;34m\u001b[0m\u001b[0;34m\u001b[0m\u001b[0m\n\u001b[1;32m     25\u001b[0m \u001b[0;34m\u001b[0m\u001b[0m\n",
      "\u001b[0;31mInterfaceError\u001b[0m: Error binding parameter 6 - probably unsupported type."
     ]
    }
   ],
   "source": [
    "uname = input(\"Enter your name: \")\n",
    "phone = input(\"Enter your phone: \")\n",
    "email = input(\"Enter your email: \")\n",
    "password = input(\"Enter your password: \")\n",
    "gender = input(\"Enter your gender: \")\n",
    "location = input(\"Enter your location: \")\n",
    "admin = input(\"Enter your admin:(True/False) \")\n",
    "\n",
    "admin = User(uname, phone, email, password, gender, location, admin)\n",
    "admin.addAdmin()\n",
    "\n",
    "uname = input(\"Enter your name: \")\n",
    "phone = input(\"Enter your phone: \")\n",
    "email = input(\"Enter your email: \")\n",
    "password = input(\"Enter your password: \")\n",
    "gender = input(\"Enter your gender: \")\n",
    "location = input(\"Enter your location: \")\n",
    "admin = input(\"Enter your admin:(True/False) \")\n",
    "admin.addUser()"
   ]
  },
  {
   "cell_type": "code",
   "execution_count": null,
   "metadata": {},
   "outputs": [],
   "source": [
    "\n"
   ]
  }
 ],
 "metadata": {
  "kernelspec": {
   "display_name": "Python 3",
   "language": "python",
   "name": "python3"
  },
  "language_info": {
   "codemirror_mode": {
    "name": "ipython",
    "version": 3
   },
   "file_extension": ".py",
   "mimetype": "text/x-python",
   "name": "python",
   "nbconvert_exporter": "python",
   "pygments_lexer": "ipython3",
   "version": "3.7.3"
  }
 },
 "nbformat": 4,
 "nbformat_minor": 2
}
