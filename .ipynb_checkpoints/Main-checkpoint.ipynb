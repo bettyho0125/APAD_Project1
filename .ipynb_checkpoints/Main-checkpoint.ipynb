{
 "cells": [
  {
   "cell_type": "code",
   "execution_count": 4,
   "metadata": {},
   "outputs": [],
   "source": [
    "# Import sqlite3 module\n",
    "import sqlite3"
   ]
  },
  {
   "cell_type": "code",
   "execution_count": 2,
   "metadata": {},
   "outputs": [
    {
     "ename": "NameError",
     "evalue": "name 'sqlite3' is not defined",
     "output_type": "error",
     "traceback": [
      "\u001b[0;31m---------------------------------------------------------------------------\u001b[0m",
      "\u001b[0;31mNameError\u001b[0m                                 Traceback (most recent call last)",
      "\u001b[0;32m<ipython-input-2-f1a1b8c48d80>\u001b[0m in \u001b[0;36m<module>\u001b[0;34m\u001b[0m\n\u001b[1;32m      1\u001b[0m \u001b[0;31m# Chetna-Connect to the playtime database\u001b[0m\u001b[0;34m\u001b[0m\u001b[0;34m\u001b[0m\u001b[0;34m\u001b[0m\u001b[0m\n\u001b[0;32m----> 2\u001b[0;31m \u001b[0mdb\u001b[0m\u001b[0;34m=\u001b[0m\u001b[0msqlite3\u001b[0m\u001b[0;34m.\u001b[0m\u001b[0mconnect\u001b[0m\u001b[0;34m(\u001b[0m\u001b[0;34m\"/Users/livestrong19/APAD/APAD_Project1/PickupSport.db\"\u001b[0m\u001b[0;34m)\u001b[0m\u001b[0;34m\u001b[0m\u001b[0;34m\u001b[0m\u001b[0m\n\u001b[0m\u001b[1;32m      3\u001b[0m \u001b[0mcursor\u001b[0m \u001b[0;34m=\u001b[0m \u001b[0mdb\u001b[0m\u001b[0;34m.\u001b[0m\u001b[0mcursor\u001b[0m\u001b[0;34m(\u001b[0m\u001b[0;34m)\u001b[0m\u001b[0;34m\u001b[0m\u001b[0;34m\u001b[0m\u001b[0m\n",
      "\u001b[0;31mNameError\u001b[0m: name 'sqlite3' is not defined"
     ]
    }
   ],
   "source": [
    "# Chetna-Connect to the playtime database\n",
    "db=sqlite3.connect(\"/Users/livestrong19/APAD/APAD_Project1/PickupSport.db\")\n",
    "cursor = db.cursor()"
   ]
  },
  {
   "cell_type": "code",
   "execution_count": 5,
   "metadata": {},
   "outputs": [],
   "source": [
    "# Betty-Connect to the playtime database\n",
    "db=sqlite3.connect(\"/Users/peihsinho/sqlite/db/PickupSport.db\")\n",
    "cursor = db.cursor()"
   ]
  },
  {
   "cell_type": "code",
   "execution_count": 15,
   "metadata": {},
   "outputs": [
    {
     "data": {
      "text/plain": [
       "<sqlite3.Cursor at 0x111c220a0>"
      ]
     },
     "execution_count": 15,
     "metadata": {},
     "output_type": "execute_result"
    }
   ],
   "source": [
    "# Drop Venues table\n",
    "cursor.execute('''DROP TABLE Venues''')"
   ]
  },
  {
   "cell_type": "code",
   "execution_count": 16,
   "metadata": {},
   "outputs": [
    {
     "data": {
      "text/plain": [
       "<sqlite3.Cursor at 0x111c220a0>"
      ]
     },
     "execution_count": 16,
     "metadata": {},
     "output_type": "execute_result"
    }
   ],
   "source": [
    "# Create Venues table\n",
    "cursor.execute('''\n",
    "    CREATE TABLE Venues\n",
    "                        (VenueId INTEGER PRIMARY KEY, \n",
    "                        VenueName TEXT NOT NULL,\n",
    "                        VenueCity TEXT NOT NULL,\n",
    "                        VenueZipcode INTEGER NOT NULL,\n",
    "                        VenueAddress TEXT NOT NULL,\n",
    "                        VenueOpeningTime TIME NOT NULL,\n",
    "                        VenueClosingTime TIME NOT NULL,\n",
    "                        VenueCapacity INTEGER NOT NULL,\n",
    "                        CHECK (LENGTH(VenueZipcode)==6 AND LENGTH(VenueName)<=15 AND LENGTH(VenueAddress)<=30))\n",
    "                        ''')"
   ]
  },
  {
   "cell_type": "code",
   "execution_count": 17,
   "metadata": {},
   "outputs": [],
   "source": [
    "db.commit()"
   ]
  },
  {
   "cell_type": "code",
   "execution_count": null,
   "metadata": {},
   "outputs": [],
   "source": [
    "# Create Users table\n",
    "\n",
    "cursor.execute('''\n",
    "    CREATE TABLE users(uid INTEGER PRIMARY KEY AUTOINCREMENT, uname TEXT,\n",
    "                       phone TEXT, email TEXT, password TEXT, gender TEXT, location TEXT, admin BOOLEAN)\n",
    "''')\n",
    "db.commit()\n",
    "\n",
    "## delete the table\n",
    "# cursor.execute('''DROP TABLE users''')\n",
    "# db.commit()"
   ]
  },
  {
   "cell_type": "code",
   "execution_count": null,
   "metadata": {},
   "outputs": [],
   "source": [
    "# Create Venues_Events table\n",
    "cursor.execute('''\n",
    "    CREATE TABLE Events\n",
    "                        (EventId INTEGER PRIMARY KEY AUTOINCREMENT, \n",
    "                        VenueName TEXT NOT NULL,\n",
    "                        VenueCity TEXT NOT NULL,\n",
    "                        VenueZipcode INTEGER NOT NULL,\n",
    "                        VenueAddress TEXT NOT NULL,\n",
    "                        VenueOpeningTime TIME NOT NULL,\n",
    "                        VenueClosingTime TIME NOT NULL,\n",
    "                        VenueCapacity INTEGER NOT NULL,\n",
    "                        CHECK (LENGTH(VenueZipcode)==6 AND LENGTH(VenueName)<=15 AND LENGTH(VenueAddress)<=30))\n",
    "''')"
   ]
  },
  {
   "cell_type": "code",
   "execution_count": 6,
   "metadata": {},
   "outputs": [
    {
     "name": "stdout",
     "output_type": "stream",
     "text": [
      "Enter your name: erg\n",
      "Enter your phone: 1243567890\n",
      "[('erg', '1243567890', 'xcvbnm', '123', 'F', 'tx', True)]\n"
     ]
    }
   ],
   "source": [
    "##create admin first\n",
    "def addAdmin(uname, phone, email, password, gender, location):\n",
    "    admin = True\n",
    "    value = [(uname, phone, email, password, gender, location, admin)]\n",
    "    print(value)\n",
    "#     cursor.execute('''INSERT INTO users(uname, phone, email, password, gender, location, admin) \n",
    "#                   VALUES(:uname, :phone, :email, :password, :gender, :location, :admin)''',\n",
    "#                 {'uname': uname, 'phone': phone, 'email': email, 'password': password, 'gender': gender, \n",
    "#                  'location': location, 'admin':admin})\n",
    "    \n",
    "    cursor.executemany('''INSERT INTO users(uname, phone, email, password, gender, location, admin) \n",
    "                  VALUES(?, ?, ?, ?, ?, ?, ?)''', value)\n",
    "    \n",
    "def checkPhone():\n",
    "    phone = input(\"Enter your phone: \")\n",
    "    print(phone)\n",
    "    print(len(phone))\n",
    "    print(phone.isdigit())\n",
    "    if len(phone) == 10 and phone.isdigit():\n",
    "        print(phone)\n",
    "        return phone\n",
    "    else:\n",
    "        print(\"please enter again\")\n",
    "        checkPhone()\n",
    "\n",
    "def checkEmail(email):\n",
    "    regex = '\\w+[.|\\w]\\w+@\\w+[.]\\w+[.|\\w+]\\w+'\n",
    "    print(re.search(regex, email))\n",
    "    # if !(re.match(regex, email)):\n",
    "    #     print(\"please enter again\")\n",
    "    \n",
    "def checkGender():\n",
    "    gender = input(\"Enter your gender(F/M): \")\n",
    "    if gender != 'F' and gender != 'M':\n",
    "        print(\"please enter again\")\n",
    "        checkGender()\n",
    "        print(gender)\n",
    "    else:\n",
    "        return gender\n",
    "    \n",
    "uname = input(\"Enter your name: \")\n",
    "phone = input(\"Enter your phone: \")\n",
    "    \n",
    "# email = input(\"Enter your email: \")\n",
    "# checkEmail(email)\n",
    "email = 'xcvbnm'\n",
    "    \n",
    "# password = input(\"Enter your password: \")\n",
    "password = '123'\n",
    "# checkGender()\n",
    "gender = 'F'\n",
    "# location = input(\"Enter your location: \")\n",
    "location = 'tx'\n",
    "\n",
    "addAdmin(uname, phone, email, password, gender, location);"
   ]
  },
  {
   "cell_type": "code",
   "execution_count": 7,
   "metadata": {},
   "outputs": [],
   "source": [
    "db.commit()"
   ]
  },
  {
   "cell_type": "code",
   "execution_count": null,
   "metadata": {},
   "outputs": [],
   "source": [
    "def addUser(uname, phone, email, password, gender, location):\n",
    "    admin = False\n",
    "    value = [(uname, phone, email, password, gender, location, admin)]\n",
    "    print(value)\n",
    "#     cursor.execute('''INSERT INTO users(uname, phone, email, password, gender, location, admin) \n",
    "#                   VALUES(:uname, :phone, :email, :password, :gender, :location, :admin)''',\n",
    "#                 {'uname': uname, 'phone': phone, 'email': email, 'password': password, 'gender': gender, \n",
    "#                  'location': location, 'admin':admin})  \n",
    "\n",
    "    cursor.executemany('''INSERT INTO users(uname, phone, email, password, gender, location, admin) \n",
    "                  VALUES(?, ?, ?, ?, ?, ?, ?)''', value)\n",
    "    \n",
    "uname = input(\"Enter your name: \")\n",
    "phone = input(\"Enter your phone: \")\n",
    "email = input(\"Enter your email: \")\n",
    "password = input(\"Enter your password: \")\n",
    "gender = input(\"Enter your gender: \")\n",
    "location = input(\"Enter your location: \")\n",
    "addUser(uname, phone, email, password, gender, location);"
   ]
  },
  {
   "cell_type": "code",
   "execution_count": null,
   "metadata": {},
   "outputs": [],
   "source": [
    "db.commit()"
   ]
  }
 ],
 "metadata": {
  "kernelspec": {
   "display_name": "Python 3",
   "language": "python",
   "name": "python3"
  },
  "language_info": {
   "codemirror_mode": {
    "name": "ipython",
    "version": 3
   },
   "file_extension": ".py",
   "mimetype": "text/x-python",
   "name": "python",
   "nbconvert_exporter": "python",
   "pygments_lexer": "ipython3",
   "version": "3.7.3"
  }
 },
 "nbformat": 4,
 "nbformat_minor": 2
}
