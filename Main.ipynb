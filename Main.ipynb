{
 "cells": [
  {
   "cell_type": "code",
   "execution_count": null,
   "metadata": {},
   "outputs": [],
   "source": [
    "# Import sqlite3 module\n",
    "import sqlite3"
   ]
  },
  {
   "cell_type": "code",
   "execution_count": null,
   "metadata": {},
   "outputs": [],
   "source": [
    "# Chetna-Connect to the playtime database\n",
    "db=sqlite3.connect(\"/Users/livestrong19/APAD/APAD_Project1/PickupSport.db\")\n",
    "cursor = db.cursor()"
   ]
  },
  {
   "cell_type": "code",
   "execution_count": null,
   "metadata": {},
   "outputs": [],
   "source": [
    "# Betty-Connect to the playtime database\n",
    "db=sqlite3.connect(\"/Users/peihsinho/sqlite/db/PickupSport.db\")\n",
    "cursor = db.cursor()"
   ]
  },
  {
   "cell_type": "code",
   "execution_count": null,
   "metadata": {},
   "outputs": [],
   "source": [
    "# Drop Venues table\n",
    "cursor.execute('''DROP TABLE Venues''')\n",
    "db.commit()"
   ]
  },
  {
   "cell_type": "code",
   "execution_count": null,
   "metadata": {},
   "outputs": [],
   "source": [
    "# Create Venues table\n",
    "cursor.execute('''\n",
    "    CREATE TABLE Venues\n",
    "                        (VenueId INTEGER PRIMARY KEY AUTOINCREMENT, \n",
    "                        VenueName TEXT NOT NULL,\n",
    "                        VenueZipcode TEXT NOT NULL,\n",
    "                        VenueAddress TEXT NOT NULL,\n",
    "                        VenueOpeningTime TEXT NOT NULL,\n",
    "                        VenueClosingTime TEXT NOT NULL,\n",
    "                        VenueSports TEXT,\n",
    "                        CHECK (LENGTH(VenueZipcode)==5 AND LENGTH(VenueName)<=15 AND LENGTH(VenueAddress)<=30))\n",
    "                        ''')\n",
    "db.commit()"
   ]
  },
  {
   "cell_type": "code",
   "execution_count": null,
   "metadata": {},
   "outputs": [],
   "source": [
    "# Drop Users table\n",
    "cursor.execute('''DROP TABLE users''')\n",
    "db.commit()"
   ]
  },
  {
   "cell_type": "code",
   "execution_count": null,
   "metadata": {},
   "outputs": [],
   "source": [
    "# Create Users table\n",
    "cursor.execute('''\n",
    "    CREATE TABLE users(uid INTEGER PRIMARY KEY AUTOINCREMENT, \n",
    "                       uname TEXT,\n",
    "                       uphone TEXT,\n",
    "                       uemail TEXT,\n",
    "                       upassword TEXT,\n",
    "                       uZipcode TEXT,\n",
    "                       admin TEXT)\n",
    "''')\n",
    "db.commit()"
   ]
  },
  {
   "cell_type": "code",
   "execution_count": null,
   "metadata": {},
   "outputs": [],
   "source": [
    "# Drop Events table\n",
    "cursor.execute('''DROP TABLE Events''')\n",
    "db.commit()"
   ]
  },
  {
   "cell_type": "code",
   "execution_count": null,
   "metadata": {},
   "outputs": [],
   "source": [
    "# Create Events table\n",
    "cursor.execute('''\n",
    "    CREATE TABLE Events\n",
    "                        (EventId INTEGER PRIMARY KEY AUTOINCREMENT, \n",
    "                        EventName TEXT NOT NULL,\n",
    "                        EventDate TEXT NOT NULL,\n",
    "                        EventSport TEXT NOT NULL,\n",
    "                        EventTeamSize INTEGER NOT NULL,\n",
    "                        EventSpotsLeft INTEGER NOT NULL,\n",
    "                        EventDesc TEXT,\n",
    "                        VenueId INTEGER NOT NULL,\n",
    "                        EventHost TEXT NOT NULL,\n",
    "                        EventStartTime TEXT NOT NULL,\n",
    "                        EventEndTime TEXT NOT NULL,\n",
    "                        FOREIGN KEY (EventHost) references users(uid),\n",
    "                        FOREIGN KEY (VenueId) REFERENCES Venues(VenueId))\n",
    "''')\n",
    "db.commit()"
   ]
  },
  {
   "cell_type": "code",
   "execution_count": null,
   "metadata": {},
   "outputs": [],
   "source": [
    "# Drop User_Events table\n",
    "cursor.execute('''DROP TABLE User_Events''')\n",
    "db.commit()"
   ]
  },
  {
   "cell_type": "code",
   "execution_count": null,
   "metadata": {},
   "outputs": [],
   "source": [
    "# Create User_Events table\n",
    "cursor.execute('''\n",
    "    CREATE TABLE User_Events\n",
    "                        (EventId Integer,\n",
    "                         uid Integer,\n",
    "                         FOREIGN KEY (EventId) REFERENCES Events(EventId), \n",
    "                         FOREIGN KEY (uid) REFERENCES users(uid))\n",
    "''')\n",
    "db.commit()"
   ]
  },
  {
   "cell_type": "code",
   "execution_count": null,
   "metadata": {},
   "outputs": [],
   "source": [
    "# Check if user is Admin or not\n",
    "def checkAdmin(uid):\n",
    "    cursor.execute('''SELECT COUNT(*) FROM users WHERE admin = ? AND uid= ?''',('True', uid))\n",
    "    all = cursor.fetchone()\n",
    "    #Return true if such user found with Admin rights in Users table    \n",
    "    if all[0] > 0:\n",
    "        return True\n",
    "    else:\n",
    "        return False\n",
    "\n",
    "# Check fucntion checkAdmin with sample input values\n",
    "# checkAdmin(1)"
   ]
  },
  {
   "cell_type": "code",
   "execution_count": null,
   "metadata": {},
   "outputs": [],
   "source": [
    "# Add new user in the Users table\n",
    "def addUser(userId, uname, uphone, uemail, upassword, uZipcode, admin):\n",
    "    \n",
    "    if checkAdmin(userId):\n",
    "        value = [(uname, uphone, uemail, upassword, uZipcode, admin)]\n",
    "        cursor.executemany('''INSERT INTO users(uname, uphone, uemail, upassword, uZipcode ,admin) \n",
    "                      VALUES(?, ?, ?, ?, ?, ?)''', value)\n",
    "        db.commit()\n",
    "    else:\n",
    "        print(\"You are not a Admin\")\n",
    "        \n",
    "# Check fucntion addUser with sample input values\n",
    "addUser(1, \"Kyle\", 23456, \"d@gmail\", \"Why\", 78705, \"False\")\n",
    "addUser(1, \"Bob\", 85786, \"s@gmail\", \"Dude\", 98690, \"False\")\n",
    "addUser(2, \"Mary\", 85744, \"m@gmail\", \"Life\", 92290, \"False\")"
   ]
  },
  {
   "cell_type": "code",
   "execution_count": null,
   "metadata": {},
   "outputs": [],
   "source": [
    "# Calculate 1 hour time slots between start time and end time\n",
    "def CalculateTimeslots(startTime, endTime):\n",
    "    import datetime\n",
    "    # Convert user input into date format\n",
    "    start = datetime.datetime.strptime(startTime,'%H%M')\n",
    "    end = datetime.datetime.strptime(endTime, '%H%M')\n",
    "    slots = []\n",
    "    # Create variable to perform date operations i.e. calculate next time after one hour\n",
    "    one_hour = datetime.timedelta(minutes=60)  \n",
    "    # Create list of starting times of all time slots\n",
    "    while start < end and end >= start + one_hour:\n",
    "            slots.append(start.strftime(\"%H%M\"))\n",
    "            start += one_hour\n",
    "    return slots\n",
    "\n",
    "# Check fucntion CalculateTimeslots with sample input values\n",
    "# CalculateTimeslots(\"0900\", \"1100\")\n",
    "# CalculateTimeslots(\"0900\", \"1100\")"
   ]
  },
  {
   "cell_type": "code",
   "execution_count": null,
   "metadata": {},
   "outputs": [],
   "source": [
    "# Add a new venue in the Venues tables\n",
    "# Follow 24 hour format for Opening & Closing Time column values \n",
    "def addVenue(userId, VenueName, VenueZipcode, VenueAddress, VenueOpeningTime, VenueClosingTime, VenueSports):\n",
    "   \n",
    "    if checkAdmin(userId):\n",
    "        value = [(VenueName, VenueZipcode, VenueAddress, VenueOpeningTime, VenueClosingTime, VenueSports)]\n",
    "        cursor.executemany('''INSERT INTO Venues(VenueName, VenueZipcode, VenueAddress, VenueOpeningTime, VenueClosingTime, VenueSports) \n",
    "                      VALUES(?, ?, ?, ?, ?,?)''', value)\n",
    "        db.commit()\n",
    "    else:\n",
    "        print(\"User is not authorised to add a new venue\")\n",
    "\n",
    "\n",
    "# Populate Venues table with initial list of 10 venues\n",
    "addVenue(1, \"Venue 1\", \"78705\", \"26th Street\", \"0900\", \"1800\", \"Football\")\n",
    "addVenue(1, \"Venue 2\", \"78706\", \"27th Street\", \"0900\", \"1700\", \"Basketball\")\n",
    "addVenue(1, \"Venue 3\", \"78707\", \"28th Street\", \"0900\", \"1600\", \"Tennis\")\n",
    "addVenue(1, \"Venue 4\", \"78708\", \"29th Street\", \"0900\", \"1500\", \"Swimming\")\n",
    "addVenue(1, \"Venue 5\", \"78709\", \"30th Street\", \"0900\", \"1400\", \"Cricket\")\n",
    "addVenue(1, \"Venue 6\", \"78700\", \"34th Street\", \"1000\", \"1800\", \"Football\")\n",
    "addVenue(1, \"Venue 7\", \"78701\", \"35th Street\", \"1100\", \"1800\", \"Basketball\")\n",
    "addVenue(1, \"Venue 8\", \"78702\", \"36th Street\", \"1200\", \"1800\", \"Tennis\")\n",
    "addVenue(1, \"Venue 9\", \"78703\", \"37th Street\", \"1300\", \"1800\", \"Swimming\")\n",
    "addVenue(1, \"Venue 10\", \"78704\", \"38th Street\", \"1200\", \"1700\", \"Cricket\")\n",
    "addVenue(2, \"Venue 11\", \"78710\", \"39th Street\", \"0900\", \"1600\", \"Football, Hockey\")"
   ]
  },
  {
   "cell_type": "code",
   "execution_count": null,
   "metadata": {},
   "outputs": [],
   "source": [
    "# Add new event in Event table\n",
    "def CreateEvent(EventHost, VenueID, EventName, EventDate, EventSport, EventTeamSize, \n",
    "                EventDesc, EventStartTime, EventEndTime):\n",
    "    \n",
    "    EventSpotsLeft = EventTeamSize - 1\n",
    "    value = [(EventName, EventDate, EventSport, EventTeamSize, \n",
    "                EventSpotsLeft, EventDesc, VenueId, EventHost, EventStartTime,EventEndTime)]\n",
    "    cursor.executemany('''INSERT INTO Events(EventName,EventDate, EventSport, EventTeamSize, \n",
    "                EventSpotsLeft, EventDesc, VenueId, EventHost, EventStartTime, EventEndTime) \n",
    "                      VALUES(?, ?, ?, ?, ?, ?, ?, ?, ?, ?)''', value)\n",
    "    db.commit()\n",
    "    \n",
    "    \n",
    "    update user_event\n",
    "\n",
    "# Check fucntion CreateEvent with sample input values\n",
    "CreateEvent(2,'wrtg','arg','argg','arg',5, 5,'argrg','argr', 'srthgt')"
   ]
  },
  {
   "cell_type": "code",
   "execution_count": null,
   "metadata": {},
   "outputs": [],
   "source": [
    "# Display timeslot availability at a venue on a given date\n",
    "# User entry for Date value to follow this format 'YYYY-MM-DD'\n",
    "\n",
    "def SingleVenueAllTimeslotAvailability (VenueId, Date):\n",
    "    cursor.execute('''SELECT VenueOpeningTime, VenueClosingTime FROM Venues WHERE VenueId = ?''',(VenueId,))\n",
    "    vCheck = cursor.fetchall()\n",
    "    VenueTimeSlots = CalculateTimeslots(vCheck[0][0], vCheck[0][1])\n",
    "    # Create a dictionary of venue timeslots as key and default value as available\n",
    "    dictOfVenues = dict.fromkeys(VenueTimeSlots)\n",
    "    for k,v in dictOfVenues.items():\n",
    "        dictOfVenues[k] = 'Available'\n",
    "    cursor.execute('''SELECT EventStartTime,EventEndTime FROM Events WHERE VenueId = ? AND EventDate = ?''',(VenueId,Date))\n",
    "    eCheck = cursor.fetchall()\n",
    "    EventDict = dict(eCheck)\n",
    "    # Create a list of Event time slots - storing only the starting time\n",
    "    EventTimeSlots = []\n",
    "    for key,value in EventDict.items():\n",
    "        EventTimeSlots.append(CalculateTimeslots(key, value))\n",
    "    # If Event timeslot found in Venue Dictionary then update value of key as booked \n",
    "    for x in EventTimeSlots:\n",
    "        if x[0] in dictOfVenues:\n",
    "            dictOfVenues[x[0]] = 'Booked'\n",
    "    Available_Timeslots = {key:value for key,value in dictOfVenues.items() if dictOfVenues[key] == 'Available'}\n",
    "    #Returns a dictionary of available timeslots\n",
    "    return Available_Timeslots\n",
    "\n",
    "# Sample function call for testing\n",
    "SingleVenueAllTimeslotAvailability (1, '2019-03-02')"
   ]
  },
  {
   "cell_type": "code",
   "execution_count": null,
   "metadata": {},
   "outputs": [],
   "source": [
    "# Return venue availability for a particular timeslot\n",
    "def SingleVenueSingleTimeslotAvailability (VenueId, Date, Start_Time, End_Time):\n",
    "    VenueDict = SingleVenueAllTimeslotAvailability(VenueId, Date)\n",
    "    GivenTimeSlots = CalculateTimeslots(Start_Time, End_Time)\n",
    "    Available = notAvailable = 0\n",
    "    for x in GivenTimeSlots:\n",
    "        if x in VenueDict:\n",
    "            Available += 1\n",
    "        else:\n",
    "            notAvailable += 1\n",
    "    if notAvailable >0:\n",
    "        return False\n",
    "    else:\n",
    "        return True\n",
    "  \n",
    "# Sample values to test SingleVenueSingleTimeslotAvailability function\n",
    "print(SingleVenueSingleTimeslotAvailability (1, '2019-03-02', '0900', '1100'))\n",
    "print(SingleVenueSingleTimeslotAvailability (1, '2019-03-02', '1100', '1200'))"
   ]
  },
  {
   "cell_type": "code",
   "execution_count": null,
   "metadata": {},
   "outputs": [],
   "source": [
    "# Display available venues for a given timeslot on a given date\n",
    "# User entry for Date value to follow this format 'YYYY-MM-DD'\n",
    "# User entry fot Starting and Ending timeslot values to follow 24 hour format\n",
    "\n",
    "def SingleTimeslotAllVenueAvailability (StartTime, EndTime, Date):\n",
    "    #Fetch all venues from Venues table and create a dictionary for capturing venue availability\n",
    "    cursor.execute('''SELECT VenueId FROM Venues''')\n",
    "    vList = cursor.fetchall()\n",
    "    vSimpleList = []\n",
    "    [vSimpleList.append(First) for Row in vList for First in Row]\n",
    "    vDict = dict.fromkeys(vSimpleList)\n",
    "    for k,v in vDict.items():\n",
    "        vDict[k] = 'Available'\n",
    "    #For each venue check availability of given timeslot\n",
    "    for key in vDict:\n",
    "        vDict[key] = SingleVenueSingleTimeslotAvailability(key, Date, StartTime, EndTime)\n",
    "    print(vDict)\n",
    "    # Return dictionary with key = VenueID and value = Availability (True/False)\n",
    "    Available_Venues = {key:value for key,value in vDict.items() if vDict[key]}\n",
    "    return Available_Venues\n",
    "\n",
    "# Sample values to test SingleTimeslotAllVenueAvailability function\n",
    "print(SingleTimeslotAllVenueAvailability ('0900', '1100','2019-03-02'))"
   ]
  }
 ],
 "metadata": {
  "kernelspec": {
   "display_name": "Python 3",
   "language": "python",
   "name": "python3"
  },
  "language_info": {
   "codemirror_mode": {
    "name": "ipython",
    "version": 3
   },
   "file_extension": ".py",
   "mimetype": "text/x-python",
   "name": "python",
   "nbconvert_exporter": "python",
   "pygments_lexer": "ipython3",
   "version": "3.7.0"
  }
 },
 "nbformat": 4,
 "nbformat_minor": 2
}
