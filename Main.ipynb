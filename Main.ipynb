{
 "cells": [
  {
   "cell_type": "code",
   "execution_count": 1,
   "metadata": {},
   "outputs": [],
   "source": [
    "# Import sqlite3 module\n",
    "import sqlite3"
   ]
  },
  {
   "cell_type": "code",
   "execution_count": 53,
   "metadata": {},
   "outputs": [],
   "source": [
    "# Chetna-Connect to the playtime database\n",
    "db=sqlite3.connect(\"/Users/livestrong19/APAD/APAD_Project1/PickupSport.db\")\n",
    "cursor = db.cursor()"
   ]
  },
  {
   "cell_type": "code",
   "execution_count": 2,
   "metadata": {},
   "outputs": [],
   "source": [
    "# Betty-Connect to the playtime database\n",
    "db=sqlite3.connect(\"/Users/peihsinho/sqlite/db/PickupSport.db\")\n",
    "cursor = db.cursor()"
   ]
  },
  {
   "cell_type": "code",
   "execution_count": 66,
   "metadata": {},
   "outputs": [],
   "source": [
    "# Drop Venues table\n",
    "cursor.execute('''DROP TABLE Venues''')\n",
    "db.commit()"
   ]
  },
  {
   "cell_type": "code",
   "execution_count": 67,
   "metadata": {},
   "outputs": [],
   "source": [
    "# Create Venues table\n",
    "cursor.execute('''\n",
    "    CREATE TABLE Venues\n",
    "                        (VenueId INTEGER PRIMARY KEY AUTOINCREMENT, \n",
    "                        VenueName TEXT NOT NULL,\n",
    "                        VenueZipcode INTEGER NOT NULL,\n",
    "                        VenueAddress TEXT NOT NULL,\n",
    "                        VenueOpeningTime TIME NOT NULL,\n",
    "                        VenueClosingTime TIME NOT NULL,\n",
    "                        VenueTimeSlots INTEGER NOT NULL,\n",
    "                        VenueSports TEXT,\n",
    "                        CHECK (LENGTH(VenueZipcode)==5 AND LENGTH(VenueName)<=15 AND LENGTH(VenueAddress)<=30))\n",
    "                        ''')\n",
    "db.commit()"
   ]
  },
  {
   "cell_type": "code",
   "execution_count": 7,
   "metadata": {},
   "outputs": [],
   "source": [
    "# Drop Users table\n",
    "cursor.execute('''DROP TABLE users''')\n",
    "db.commit()"
   ]
  },
  {
   "cell_type": "code",
   "execution_count": 14,
   "metadata": {},
   "outputs": [],
   "source": [
    "# Create Users table\n",
    "\n",
    "cursor.execute('''\n",
    "    CREATE TABLE users(uid INTEGER PRIMARY KEY AUTOINCREMENT, \n",
    "                       uname TEXT,\n",
    "                       uphone TEXT,\n",
    "                       uemail TEXT,\n",
    "                       upassword TEXT,\n",
    "                       uZipcode TEXT,\n",
    "                       admin TEXT)\n",
    "''')\n",
    "db.commit()"
   ]
  },
  {
   "cell_type": "code",
   "execution_count": 9,
   "metadata": {},
   "outputs": [],
   "source": [
    "# Drop Events table\n",
    "cursor.execute('''DROP TABLE users''')\n",
    "db.commit()"
   ]
  },
  {
   "cell_type": "code",
   "execution_count": 10,
   "metadata": {},
   "outputs": [],
   "source": [
    "# Create Events table\n",
    "cursor.execute('''\n",
    "    CREATE TABLE Events\n",
    "                        (EventId INTEGER PRIMARY KEY AUTOINCREMENT, \n",
    "                        EventName TEXT NOT NULL,\n",
    "                        EventDate DATE NOT NULL,\n",
    "                        EventSport TEXT NOT NULL,\n",
    "                        EventTeamSize INTEGER NOT NULL,\n",
    "                        EventSpotsLeft INTEGER NOT NULL,\n",
    "                        EventDesc TEXT,\n",
    "                        VenueId INTEGER,\n",
    "                        EventHost TEXT NOT NULL,\n",
    "                        EventStartTime TIME NOT NULL,\n",
    "                        EventEndTime TIME NOT NULL,\n",
    "                        FOREIGN KEY (EventHost) references users(uid),\n",
    "                        FOREIGN KEY (VenueId) REFERENCES Venues(VenueId))\n",
    "''')\n",
    "db.commit()"
   ]
  },
  {
   "cell_type": "code",
   "execution_count": 23,
   "metadata": {},
   "outputs": [],
   "source": [
    "# Drop User_Events table\n",
    "cursor.execute('''DROP TABLE User_Events''')\n",
    "db.commit()"
   ]
  },
  {
   "cell_type": "code",
   "execution_count": 24,
   "metadata": {},
   "outputs": [],
   "source": [
    "# Create User_Events table\n",
    "cursor.execute('''\n",
    "    CREATE TABLE User_Events\n",
    "                        (EventId Integer,\n",
    "                         uid Integer,\n",
    "                         FOREIGN KEY (EventId) REFERENCES Events(EventId), \n",
    "                         FOREIGN KEY (uid) REFERENCES users(uid))\n",
    "''')\n",
    "db.commit()\n",
    "\n",
    "## delete the table\n",
    "# cursor.execute('''DROP TABLE Events''')\n",
    "# db.commit()"
   ]
  },
  {
   "cell_type": "code",
   "execution_count": 65,
   "metadata": {},
   "outputs": [],
   "source": [
    "##create admin first\n",
    "def checkAdmin(uid):\n",
    "    cursor.execute('''SELECT uid FROM users where admin = \"True\"''')\n",
    "    all = cursor.fetchall()\n",
    "    for user in all:\n",
    "        if uid in user:\n",
    "            IsAdmin = True\n",
    "            return IsAdmin\n",
    "        else:\n",
    "            IsAdmin = False         \n",
    "    return IsAdmin"
   ]
  },
  {
   "cell_type": "code",
   "execution_count": 70,
   "metadata": {},
   "outputs": [],
   "source": [
    "def addUser(userId, uname, uphone, uemail, uassword, uZipcode, admin):\n",
    "    \n",
    "    if checkAdmin(userId) == 'True':\n",
    "        value = [(uname, uphone, uemail, upassword, uZipcode, admin)]\n",
    "        cursor.executemany('''INSERT INTO users(uname, uphone, uemail, upassword, uZipcode ,admin) \n",
    "                      VALUES(?, ?, ?, ?, ?, ?)''', value)\n",
    "        db.commit()\n",
    "    else:\n",
    "        print(\"You are not a Admin\")"
   ]
  },
  {
   "cell_type": "code",
   "execution_count": 71,
   "metadata": {},
   "outputs": [],
   "source": [
    "def addVenue(userId, VenueName, VenueZipcode, VenueAddress, VenueOpeningTime, VenueClosingTime, VenueTimeSlots, VenueSports):\n",
    "    \n",
    "    if checkAdmin(userId) == 'True':\n",
    "        value = [(VenueName, VenueZipcode, VenueAddress, VenueOpeningTime, VenueClosingTime, VenueTimeSlots, VenueSports)]\n",
    "        cursor.executemany('''INSERT INTO Venues(VenueName, VenueZipcode, VenueAddress, VenueOpeningTime, VenueClosing Time, VenueTimeSlots, VenueSports) \n",
    "                      VALUES(?, ?, ?, ?, ?, ?,?)''', value)\n",
    "        db.commit()\n",
    "    else:\n",
    "        print(\"User is not authorised to add a new venue\")\n",
    "      "
   ]
  },
  {
   "cell_type": "code",
   "execution_count": 86,
   "metadata": {},
   "outputs": [
    {
     "name": "stdout",
     "output_type": "stream",
     "text": [
      "2019-07-27 15:10:52.275047\n"
     ]
    }
   ],
   "source": [
    "import datetime\n",
    "now = datetime.datetime.now()\n",
    "later = datetime.datetime\n",
    "print (now)\n",
    "\n",
    "# addVenue(1,\"Venue 1\",\"78701\",\"510 W 26th Street Austin\",9:00:00,18:00:00,9,\"Football\")"
   ]
  },
  {
   "cell_type": "code",
   "execution_count": null,
   "metadata": {},
   "outputs": [],
   "source": [
    "def userJoinEvent(userId, eventId):\n",
    "    cursor.execute('''SELECT * FROM Events ''')"
   ]
  },
  {
   "cell_type": "code",
   "execution_count": 93,
   "metadata": {},
   "outputs": [
    {
     "name": "stdout",
     "output_type": "stream",
     "text": [
      "Enter your name: rgtg\n",
      "Enter your phone: trhg\n",
      "Enter your email: trh\n",
      "Enter your password: rwth\n",
      "Enter your uZipcode: wrth\n",
      "Enter your admin(True/False):True\n"
     ]
    }
   ],
   "source": [
    "#admin create user\n",
    "uname = input(\"Enter your name: \")\n",
    "uphone = input(\"Enter your phone: \")\n",
    "uemail = input(\"Enter your email: \")\n",
    "upassword = input(\"Enter your password: \")\n",
    "uZipcode = input(\"Enter your uZipcode: \")\n",
    "admin = input(\"Enter your admin(True/False):\")\n",
    "addUser(1, uname, uphone, uemail, upassword, uZipcode, admin);"
   ]
  }
 ],
 "metadata": {
  "kernelspec": {
   "display_name": "Python 3",
   "language": "python",
   "name": "python3"
  },
  "language_info": {
   "codemirror_mode": {
    "name": "ipython",
    "version": 3
   },
   "file_extension": ".py",
   "mimetype": "text/x-python",
   "name": "python",
   "nbconvert_exporter": "python",
   "pygments_lexer": "ipython3",
   "version": "3.7.0"
  }
 },
 "nbformat": 4,
 "nbformat_minor": 2
}
