{
 "cells": [
  {
   "cell_type": "code",
   "execution_count": 1,
   "metadata": {},
   "outputs": [],
   "source": [
    "# Import sqlite3 module\n",
    "import sqlite3"
   ]
  },
  {
   "cell_type": "code",
   "execution_count": 161,
   "metadata": {},
   "outputs": [
    {
     "ename": "OperationalError",
     "evalue": "unable to open database file",
     "output_type": "error",
     "traceback": [
      "\u001b[0;31m---------------------------------------------------------------------------\u001b[0m",
      "\u001b[0;31mOperationalError\u001b[0m                          Traceback (most recent call last)",
      "\u001b[0;32m<ipython-input-161-f1a1b8c48d80>\u001b[0m in \u001b[0;36m<module>\u001b[0;34m\u001b[0m\n\u001b[1;32m      1\u001b[0m \u001b[0;31m# Chetna-Connect to the playtime database\u001b[0m\u001b[0;34m\u001b[0m\u001b[0;34m\u001b[0m\u001b[0;34m\u001b[0m\u001b[0m\n\u001b[0;32m----> 2\u001b[0;31m \u001b[0mdb\u001b[0m\u001b[0;34m=\u001b[0m\u001b[0msqlite3\u001b[0m\u001b[0;34m.\u001b[0m\u001b[0mconnect\u001b[0m\u001b[0;34m(\u001b[0m\u001b[0;34m\"/Users/livestrong19/APAD/APAD_Project1/PickupSport.db\"\u001b[0m\u001b[0;34m)\u001b[0m\u001b[0;34m\u001b[0m\u001b[0;34m\u001b[0m\u001b[0m\n\u001b[0m\u001b[1;32m      3\u001b[0m \u001b[0mcursor\u001b[0m \u001b[0;34m=\u001b[0m \u001b[0mdb\u001b[0m\u001b[0;34m.\u001b[0m\u001b[0mcursor\u001b[0m\u001b[0;34m(\u001b[0m\u001b[0;34m)\u001b[0m\u001b[0;34m\u001b[0m\u001b[0;34m\u001b[0m\u001b[0m\n",
      "\u001b[0;31mOperationalError\u001b[0m: unable to open database file"
     ]
    }
   ],
   "source": [
    "# Chetna-Connect to the playtime database\n",
    "db=sqlite3.connect(\"/Users/livestrong19/APAD/APAD_Project1/PickupSport.db\")\n",
    "cursor = db.cursor()"
   ]
  },
  {
   "cell_type": "code",
   "execution_count": 2,
   "metadata": {},
   "outputs": [],
   "source": [
    "# Betty-Connect to the playtime database\n",
    "db=sqlite3.connect(\"/Users/peihsinho/sqlite/db/PickupSport.db\")\n",
    "cursor = db.cursor()"
   ]
  },
  {
   "cell_type": "code",
   "execution_count": 208,
   "metadata": {},
   "outputs": [],
   "source": [
    "# Drop Venues table\n",
    "cursor.execute('''DROP TABLE Venues''')\n",
    "db.commit()"
   ]
  },
  {
   "cell_type": "code",
   "execution_count": 209,
   "metadata": {},
   "outputs": [],
   "source": [
    "# Create Venues table\n",
    "cursor.execute('''\n",
    "    CREATE TABLE Venues\n",
    "                        (VenueId INTEGER PRIMARY KEY AUTOINCREMENT, \n",
    "                        VenueName TEXT NOT NULL,\n",
    "                        VenueZipcode INTEGER NOT NULL,\n",
    "                        VenueAddress TEXT NOT NULL,\n",
    "                        VenueOpeningTime TIME NOT NULL,\n",
    "                        VenueClosingTime TIME NOT NULL,\n",
    "                        VenueTimeSlots INTEGER NOT NULL,\n",
    "                        VenueSports TEXT,\n",
    "                        CHECK (LENGTH(VenueZipcode)==5 AND LENGTH(VenueName)<=15 AND LENGTH(VenueAddress)<=30))\n",
    "                        ''')\n",
    "db.commit()"
   ]
  },
  {
   "cell_type": "code",
   "execution_count": 128,
   "metadata": {},
   "outputs": [
    {
     "ename": "OperationalError",
     "evalue": "database is locked",
     "output_type": "error",
     "traceback": [
      "\u001b[0;31m---------------------------------------------------------------------------\u001b[0m",
      "\u001b[0;31mOperationalError\u001b[0m                          Traceback (most recent call last)",
      "\u001b[0;32m<ipython-input-128-0bdbc5d25253>\u001b[0m in \u001b[0;36m<module>\u001b[0;34m\u001b[0m\n\u001b[1;32m      4\u001b[0m     CREATE TABLE users(uid INTEGER PRIMARY KEY AUTOINCREMENT, uname TEXT,\n\u001b[1;32m      5\u001b[0m                        uphone TEXT, uemail TEXT, upassword TEXT, uZipcode TEXT, admin TEXT)\n\u001b[0;32m----> 6\u001b[0;31m ''')\n\u001b[0m\u001b[1;32m      7\u001b[0m \u001b[0mdb\u001b[0m\u001b[0;34m.\u001b[0m\u001b[0mcommit\u001b[0m\u001b[0;34m(\u001b[0m\u001b[0;34m)\u001b[0m\u001b[0;34m\u001b[0m\u001b[0;34m\u001b[0m\u001b[0m\n\u001b[1;32m      8\u001b[0m \u001b[0;34m\u001b[0m\u001b[0m\n",
      "\u001b[0;31mOperationalError\u001b[0m: database is locked"
     ]
    }
   ],
   "source": [
    "# Create Users table\n",
    "\n",
    "cursor.execute('''\n",
    "    CREATE TABLE users(uid INTEGER PRIMARY KEY AUTOINCREMENT, uname TEXT,\n",
    "                       uphone TEXT, uemail TEXT, upassword TEXT, uZipcode TEXT, admin TEXT)\n",
    "''')\n",
    "db.commit()\n",
    "\n",
    "## delete the table\n",
    "# cursor.execute('''DROP TABLE users''')\n",
    "# db.commit()"
   ]
  },
  {
   "cell_type": "code",
   "execution_count": 207,
   "metadata": {},
   "outputs": [
    {
     "ename": "OperationalError",
     "evalue": "database is locked",
     "output_type": "error",
     "traceback": [
      "\u001b[0;31m---------------------------------------------------------------------------\u001b[0m",
      "\u001b[0;31mOperationalError\u001b[0m                          Traceback (most recent call last)",
      "\u001b[0;32m<ipython-input-207-e9f455df8419>\u001b[0m in \u001b[0;36m<module>\u001b[0;34m\u001b[0m\n\u001b[1;32m     19\u001b[0m \u001b[0;34m\u001b[0m\u001b[0m\n\u001b[1;32m     20\u001b[0m \u001b[0;31m## delete the table\u001b[0m\u001b[0;34m\u001b[0m\u001b[0;34m\u001b[0m\u001b[0;34m\u001b[0m\u001b[0m\n\u001b[0;32m---> 21\u001b[0;31m \u001b[0mcursor\u001b[0m\u001b[0;34m.\u001b[0m\u001b[0mexecute\u001b[0m\u001b[0;34m(\u001b[0m\u001b[0;34m'''DROP TABLE Events'''\u001b[0m\u001b[0;34m)\u001b[0m\u001b[0;34m\u001b[0m\u001b[0;34m\u001b[0m\u001b[0m\n\u001b[0m\u001b[1;32m     22\u001b[0m \u001b[0mdb\u001b[0m\u001b[0;34m.\u001b[0m\u001b[0mcommit\u001b[0m\u001b[0;34m(\u001b[0m\u001b[0;34m)\u001b[0m\u001b[0;34m\u001b[0m\u001b[0;34m\u001b[0m\u001b[0m\n",
      "\u001b[0;31mOperationalError\u001b[0m: database is locked"
     ]
    }
   ],
   "source": [
    "# Create Events table\n",
    "cursor.execute('''\n",
    "    CREATE TABLE Events\n",
    "                        (EventId INTEGER PRIMARY KEY AUTOINCREMENT, \n",
    "                        EventName TEXT NOT NULL,\n",
    "                        EventDate DATE NOT NULL,\n",
    "                        EventSport TEXT NOT NULL,\n",
    "                        EventTeamSize INTEGER NOT NULL,\n",
    "                        EventSpotsLeft INTEGER NOT NULL,\n",
    "                        EventDesc TEXT,\n",
    "                        VenueId INTEGER,\n",
    "                        EventHost TEXT NOT NULL,\n",
    "                        EventStartTime TIME NOT NULL,\n",
    "                        EventEndTime TIME NOT NULL,\n",
    "                        FOREIGN KEY (EventHost) references users(uid),\n",
    "                        FOREIGN KEY (VenueId) REFERENCES Venues(VenueId))\n",
    "''')\n",
    "db.commit()\n",
    "\n",
    "## delete the table\n",
    "# cursor.execute('''DROP TABLE Events''')\n",
    "# db.commit()"
   ]
  },
  {
   "cell_type": "code",
   "execution_count": 18,
   "metadata": {},
   "outputs": [],
   "source": [
    "# Create User_Events table\n",
    "cursor.execute('''\n",
    "    CREATE TABLE User_Events\n",
    "                        (EventId Integer,\n",
    "                         uid Integer,\n",
    "                         FOREIGN KEY (EventId) REFERENCES Events(EventId), \n",
    "                         FOREIGN KEY (uid) REFERENCES users(uid))\n",
    "''')\n",
    "db.commit()\n",
    "\n",
    "## delete the table\n",
    "# cursor.execute('''DROP TABLE Events''')\n",
    "# db.commit()"
   ]
  },
  {
   "cell_type": "code",
   "execution_count": 17,
   "metadata": {},
   "outputs": [],
   "source": [
    "##create admin first\n",
    "def checkAdmin(uid):\n",
    "    cursor.execute('''SELECT uid FROM users where admin = \"True\"''')\n",
    "    all = cursor.fetchall()\n",
    "    for user in all:\n",
    "        if uid in user:\n",
    "            IsAdmin = True\n",
    "            return IsAdmin\n",
    "        else:\n",
    "            IsAdmin = False         \n",
    "    return IsAdmin"
   ]
  },
  {
   "cell_type": "code",
   "execution_count": 31,
   "metadata": {},
   "outputs": [],
   "source": [
    "def addUser(userId, uname, uphone, uemail, uassword, uZipcode, admin):\n",
    "    \n",
    "    if checkAdmin(userId) == True:\n",
    "        value = [(uname, uphone, uemail, upassword, uZipcode, admin)]\n",
    "        cursor.executemany('''INSERT INTO users(uname, uphone, uemail, upassword, uZipcode ,admin) \n",
    "                      VALUES(?, ?, ?, ?, ?, ?)''', value)\n",
    "        db.commit()\n",
    "        print(\"Add the user success!\")\n",
    "        print(\"User information-\"+\"uname:\"+uname+\" uphone: \"+uphone+\n",
    "              \" uemail: \"+uemail+\" uZipcode: \"+uZipcode+\" admin: \"+ admin)\n",
    "    else:\n",
    "        print(\"User is not authorised to add a new user\")"
   ]
  },
  {
   "cell_type": "code",
   "execution_count": 40,
   "metadata": {},
   "outputs": [],
   "source": [
    "def addVenue(userId, VenueName, VenueZipcode, VenueAddress, VenueOpeningTime, VenueClosingTime, VenueTimeSlots, VenueSports):\n",
    "    \n",
    "    if checkAdmin(userId) == True:\n",
    "        value = [(VenueName, VenueZipcode, VenueAddress, VenueOpeningTime, VenueClosingTime, VenueTimeSlots, VenueSports)]\n",
    "        cursor.executemany('''INSERT INTO Venues(VenueName, VenueZipcode, VenueAddress, VenueOpeningTime, VenueClosingTime, VenueTimeSlots, VenueSports) \n",
    "                      VALUES(?, ?, ?, ?, ?, ?,?)''', value)\n",
    "        db.commit()\n",
    "        print(\"Add Venue success!\")\n",
    "    else:\n",
    "        print(\"User is not authorised to add a new venue\")"
   ]
  },
  {
   "cell_type": "code",
   "execution_count": 48,
   "metadata": {},
   "outputs": [
    {
     "name": "stdout",
     "output_type": "stream",
     "text": [
      "vfvsgfb\n",
      "1\n"
     ]
    },
    {
     "ename": "OperationalError",
     "evalue": "database is locked",
     "output_type": "error",
     "traceback": [
      "\u001b[0;31m---------------------------------------------------------------------------\u001b[0m",
      "\u001b[0;31mOperationalError\u001b[0m                          Traceback (most recent call last)",
      "\u001b[0;32m<ipython-input-48-442aad96c86d>\u001b[0m in \u001b[0;36m<module>\u001b[0;34m\u001b[0m\n\u001b[1;32m     17\u001b[0m     \u001b[0mdb\u001b[0m\u001b[0;34m.\u001b[0m\u001b[0mcommit\u001b[0m\u001b[0;34m(\u001b[0m\u001b[0;34m)\u001b[0m\u001b[0;34m\u001b[0m\u001b[0;34m\u001b[0m\u001b[0m\n\u001b[1;32m     18\u001b[0m \u001b[0;34m\u001b[0m\u001b[0m\n\u001b[0;32m---> 19\u001b[0;31m \u001b[0mCreateEvent\u001b[0m\u001b[0;34m(\u001b[0m\u001b[0;36m2\u001b[0m\u001b[0;34m,\u001b[0m\u001b[0;34m'wrtg'\u001b[0m\u001b[0;34m,\u001b[0m\u001b[0;34m'arg'\u001b[0m\u001b[0;34m,\u001b[0m\u001b[0;34m'argg'\u001b[0m\u001b[0;34m,\u001b[0m\u001b[0;34m'arg'\u001b[0m\u001b[0;34m,\u001b[0m\u001b[0;36m5\u001b[0m\u001b[0;34m,\u001b[0m \u001b[0;36m5\u001b[0m\u001b[0;34m,\u001b[0m\u001b[0;34m'argrg'\u001b[0m\u001b[0;34m,\u001b[0m\u001b[0;34m'argr'\u001b[0m\u001b[0;34m,\u001b[0m \u001b[0;34m'srthgt'\u001b[0m\u001b[0;34m)\u001b[0m\u001b[0;34m\u001b[0m\u001b[0;34m\u001b[0m\u001b[0m\n\u001b[0m",
      "\u001b[0;32m<ipython-input-48-442aad96c86d>\u001b[0m in \u001b[0;36mCreateEvent\u001b[0;34m(userId, VenueName, EventName, EventDate, EventSport, EventTeamSize, EventSpotsLeft, EventDesc, EventStartTime, EventEndTime)\u001b[0m\n\u001b[1;32m     14\u001b[0m     cursor.executemany('''INSERT INTO Events(EventName,EventDate, EventSport, EventTeamSize, \n\u001b[1;32m     15\u001b[0m                 EventSpotsLeft, EventDesc, VenueId, EventHost, EventStartTime,EventEndTime) \n\u001b[0;32m---> 16\u001b[0;31m                       VALUES(?, ?, ?, ?, ?, ?, ?, ?, ?, ?)''', value)\n\u001b[0m\u001b[1;32m     17\u001b[0m     \u001b[0mdb\u001b[0m\u001b[0;34m.\u001b[0m\u001b[0mcommit\u001b[0m\u001b[0;34m(\u001b[0m\u001b[0;34m)\u001b[0m\u001b[0;34m\u001b[0m\u001b[0;34m\u001b[0m\u001b[0m\n\u001b[1;32m     18\u001b[0m \u001b[0;34m\u001b[0m\u001b[0m\n",
      "\u001b[0;31mOperationalError\u001b[0m: database is locked"
     ]
    }
   ],
   "source": [
    "def CreateEvent(userId, VenueName, EventName,EventDate, EventSport, EventTeamSize, \n",
    "                EventSpotsLeft, EventDesc, EventStartTime,EventEndTime):\n",
    "    \n",
    "    cursor.execute('''SELECT uname FROM users WHERE uid = ? ''', (userId,))\n",
    "    db.commit()\n",
    "    EventHost = cursor.fetchone()[0]\n",
    "    print(EventHost) \n",
    "    cursor.execute('''SELECT VenueId FROM Venues WHERE VenueName = ? ''', (VenueName,))\n",
    "    VenueId = cursor.fetchone()[0]\n",
    "    print(VenueId)\n",
    "    \n",
    "    value = [(EventName,EventDate, EventSport, EventTeamSize, \n",
    "                EventSpotsLeft, EventDesc, VenueId, EventHost, EventStartTime,EventEndTime)]\n",
    "    cursor.executemany('''INSERT INTO Events(EventName,EventDate, EventSport, EventTeamSize, \n",
    "                EventSpotsLeft, EventDesc, VenueId, EventHost, EventStartTime,EventEndTime) \n",
    "                      VALUES(?, ?, ?, ?, ?, ?, ?, ?, ?, ?)''', value)\n",
    "    db.commit()\n",
    "\n",
    "CreateEvent(2,'wrtg','arg','argg','arg',5, 5,'argrg','argr', 'srthgt')"
   ]
  },
  {
   "cell_type": "code",
   "execution_count": 37,
   "metadata": {},
   "outputs": [],
   "source": [
    "def removeEvent(userId, EventName, EventDate):\n",
    "    if checkAdmin(userId) == True:\n",
    "        cursor.execute('''SELECT * FROM Events WHERE EventName = ? and EventDate = ?''', (EventName,EventDate,))\n",
    "        removedEvent = cursor.fetchone()\n",
    "        if removedEvent != None:\n",
    "            cursor.execute('''DELETE FROM Events WHERE EventName = ? and EventDate = ?''', (EventName,EventDate,))\n",
    "            db.commit()\n",
    "            print(\"Remove the event success!\")\n",
    "            print(\"Removed event information- \", removedEvent)\n",
    "        else:\n",
    "            print(\"No such event!\")\n",
    "    else:\n",
    "        print(\"User is not authorised to remove a event\")"
   ]
  },
  {
   "cell_type": "code",
   "execution_count": 82,
   "metadata": {},
   "outputs": [],
   "source": [
    "def listEvent(VenueName, VenueZipcode, EventDate, EventStartTime, EventEndTime):\n",
    "    cursor.execute('''SELECT * , Venues.VenueName, Venues.VenueZipcode FROM Events \n",
    "    INNER JOIN Venues ON Events.VenueId = Venues.VenueId\n",
    "    WHERE EventDate = ? and EventStartTime = ? and EventEndTime = ?''', \n",
    "                   (EventDate, EventStartTime, EventEndTime))\n",
    "    all = cursor.fetchall()\n",
    "    if all != []:\n",
    "        for event in all:\n",
    "            print(event)\n",
    "    else:\n",
    "        print(\"No any Event!\")"
   ]
  },
  {
   "cell_type": "code",
   "execution_count": 15,
   "metadata": {},
   "outputs": [
    {
     "name": "stdout",
     "output_type": "stream",
     "text": [
      "Enter your name: 3567\n",
      "Enter your phone: sthtb\n",
      "Enter your email: s5y5\n",
      "Enter your password: ay\n",
      "Enter your uZipcode: 45666\n",
      "Enter user admin(True/False):False\n",
      "Add user success!\n",
      "User information-uname:3567/n uphone: sthtb uemail: s5y5 uZipcode: 45666 admin: False\n"
     ]
    }
   ],
   "source": [
    "#admin create user\n",
    "uname = input(\"Enter your name: \")\n",
    "uphone = input(\"Enter your phone: \")\n",
    "uemail = input(\"Enter your email: \")\n",
    "upassword = input(\"Enter your password: \")\n",
    "uZipcode = input(\"Enter your uZipcode: \")\n",
    "admin = input(\"Enter user admin(True/False):\")\n",
    "addUser(3, uname, uphone, uemail, upassword, uZipcode, admin);"
   ]
  },
  {
   "cell_type": "code",
   "execution_count": 30,
   "metadata": {},
   "outputs": [
    {
     "name": "stdout",
     "output_type": "stream",
     "text": [
      "Add Venue succes!\n"
     ]
    }
   ],
   "source": [
    "addVenue(3,'arg','78705','dfghjklrtyu','23:50:12','23:50:12',5,'stg')"
   ]
  },
  {
   "cell_type": "code",
   "execution_count": 49,
   "metadata": {},
   "outputs": [
    {
     "name": "stdout",
     "output_type": "stream",
     "text": [
      "Enter VenueName: wrtg\n",
      "Enter your EventName: 45566\n",
      "Enter your EventDate: hhj\n",
      "Enter your EventSport: bth\n",
      "Enter your EventTeamSize: 6\n",
      "Enter your EventSpotsLeft: 0\n",
      "Enter EventDesc: uio\n",
      "Enter your EventStartTime: t\n",
      "Enter EventEndTime: t\n",
      "gt\n",
      "1\n"
     ]
    }
   ],
   "source": [
    "#add Event\n",
    "VenueName = input(\"Enter VenueName: \")\n",
    "EventName = input(\"Enter your EventName: \")\n",
    "EventDate = input(\"Enter your EventDate: \")\n",
    "EventSport = input(\"Enter your EventSport: \")\n",
    "EventTeamSize = input(\"Enter your EventTeamSize: \")\n",
    "EventSpotsLeft = input(\"Enter your EventSpotsLeft: \")\n",
    "EventDesc = input(\"Enter EventDesc: \")\n",
    "EventStartTime = input(\"Enter your EventStartTime: \")\n",
    "EventEndTime = input(\"Enter EventEndTime: \")\n",
    "\n",
    "CreateEvent(3,VenueName, EventName,EventDate,EventSport, EventTeamSize, EventSpotsLeft, \n",
    "            EventDesc,EventStartTime, EventEndTime)"
   ]
  },
  {
   "cell_type": "code",
   "execution_count": 39,
   "metadata": {},
   "outputs": [
    {
     "name": "stdout",
     "output_type": "stream",
     "text": [
      "User is not authorised to remove a event\n"
     ]
    }
   ],
   "source": [
    "removeEvent(4, 'errr', 'gwtg')"
   ]
  },
  {
   "cell_type": "code",
   "execution_count": 83,
   "metadata": {},
   "outputs": [
    {
     "name": "stdout",
     "output_type": "stream",
     "text": [
      "(4, 'erg', 'erg', 'reg', 12, 5, 'th', 2, 'gt', 'wrtg', '55y', 2, 'happy', 78705, 'fghjklprtg', 'ghh', 'yhyt', 0, None, 'happy', 78705)\n"
     ]
    }
   ],
   "source": [
    "listEvent('happy', '78705', 'erg', 'wrtg', '55y')"
   ]
  },
  {
   "cell_type": "code",
   "execution_count": null,
   "metadata": {},
   "outputs": [],
   "source": []
  }
 ],
 "metadata": {
  "kernelspec": {
   "display_name": "Python 3",
   "language": "python",
   "name": "python3"
  },
  "language_info": {
   "codemirror_mode": {
    "name": "ipython",
    "version": 3
   },
   "file_extension": ".py",
   "mimetype": "text/x-python",
   "name": "python",
   "nbconvert_exporter": "python",
   "pygments_lexer": "ipython3",
   "version": "3.7.3"
  }
 },
 "nbformat": 4,
 "nbformat_minor": 2
}
