{
 "cells": [
  {
   "cell_type": "code",
   "execution_count": 2,
   "metadata": {},
   "outputs": [],
   "source": [
    "# Import sqlite3 module\n",
    "import sqlite3"
   ]
  },
  {
   "cell_type": "code",
   "execution_count": null,
   "metadata": {},
   "outputs": [],
   "source": [
    "# Chetna-Connect to the playtime database\n",
    "db=sqlite3.connect(\"/Users/livestrong19/APAD/APAD_Project1/PickupSport.db\")\n",
    "cursor = db.cursor()"
   ]
  },
  {
   "cell_type": "code",
   "execution_count": 3,
   "metadata": {},
   "outputs": [],
   "source": [
    "# Betty-Connect to the playtime database\n",
    "db=sqlite3.connect(\"/Users/peihsinho/sqlite/db/PickupSport.db\")\n",
    "cursor = db.cursor()"
   ]
  },
  {
   "cell_type": "code",
   "execution_count": null,
   "metadata": {},
   "outputs": [],
   "source": [
    "# Drop Venues table\n",
    "cursor.execute('''DROP TABLE Venues''')\n",
    "db.commit()"
   ]
  },
  {
   "cell_type": "code",
   "execution_count": null,
   "metadata": {},
   "outputs": [],
   "source": [
    "# Create Venues table\n",
    "cursor.execute('''\n",
    "    CREATE TABLE Venues\n",
    "                        (VenueId INTEGER PRIMARY KEY AUTOINCREMENT, \n",
    "                        VenueName TEXT NOT NULL,\n",
    "                        VenueZipcode TEXT NOT NULL,\n",
    "                        VenueAddress TEXT NOT NULL,\n",
    "                        VenueOpeningTime TEXT NOT NULL,\n",
    "                        VenueClosingTime TEXT NOT NULL,\n",
    "                        VenueSports TEXT,\n",
    "                        CHECK (LENGTH(VenueZipcode)==5 AND LENGTH(VenueName)<=15 AND LENGTH(VenueAddress)<=30))\n",
    "                        ''')\n",
    "db.commit()"
   ]
  },
  {
   "cell_type": "code",
   "execution_count": null,
   "metadata": {},
   "outputs": [],
   "source": [
    "# Drop Users table\n",
    "cursor.execute('''DROP TABLE users''')\n",
    "db.commit()"
   ]
  },
  {
   "cell_type": "code",
   "execution_count": null,
   "metadata": {},
   "outputs": [],
   "source": [
    "# Create Users table\n",
    "cursor.execute('''\n",
    "    CREATE TABLE users(uid INTEGER PRIMARY KEY AUTOINCREMENT, \n",
    "                       uname TEXT,\n",
    "                       uphone TEXT,\n",
    "                       uemail TEXT,\n",
    "                       upassword TEXT,\n",
    "                       uZipcode TEXT,\n",
    "                       admin TEXT)\n",
    "''')\n",
    "db.commit()"
   ]
  },
  {
   "cell_type": "code",
   "execution_count": null,
   "metadata": {},
   "outputs": [],
   "source": [
    "# Drop Events table\n",
    "cursor.execute('''DROP TABLE Events''')\n",
    "db.commit()"
   ]
  },
  {
   "cell_type": "code",
   "execution_count": null,
   "metadata": {},
   "outputs": [],
   "source": [
    "# Create Events table\n",
    "cursor.execute('''\n",
    "    CREATE TABLE Events\n",
    "                        (EventId INTEGER PRIMARY KEY AUTOINCREMENT, \n",
    "                        EventName TEXT NOT NULL,\n",
    "                        EventDate TEXT NOT NULL,\n",
    "                        EventSport TEXT NOT NULL,\n",
    "                        EventTeamSize INTEGER NOT NULL,\n",
    "                        EventSpotsLeft INTEGER NOT NULL,\n",
    "                        EventDesc TEXT,\n",
    "                        VenueId INTEGER NOT NULL,\n",
    "                        EventHost TEXT NOT NULL,\n",
    "                        EventStartTime TEXT NOT NULL,\n",
    "                        EventEndTime TEXT NOT NULL,\n",
    "                        FOREIGN KEY (EventHost) references users(uid),\n",
    "                        FOREIGN KEY (VenueId) REFERENCES Venues(VenueId))\n",
    "''')\n",
    "db.commit()"
   ]
  },
  {
   "cell_type": "code",
   "execution_count": null,
   "metadata": {},
   "outputs": [],
   "source": [
    "# Drop User_Events table\n",
    "cursor.execute('''DROP TABLE User_Events''')\n",
    "db.commit()"
   ]
  },
  {
   "cell_type": "code",
   "execution_count": null,
   "metadata": {},
   "outputs": [],
   "source": [
    "# Create User_Events table\n",
    "cursor.execute('''\n",
    "    CREATE TABLE User_Events\n",
    "                        (EventId Integer,\n",
    "                         uid Integer,\n",
    "                         FOREIGN KEY (EventId) REFERENCES Events(EventId), \n",
    "                         FOREIGN KEY (uid) REFERENCES users(uid))\n",
    "''')\n",
    "db.commit()"
   ]
  },
  {
   "cell_type": "code",
   "execution_count": null,
   "metadata": {},
   "outputs": [],
   "source": [
    "# Check if user is Admin or not\n",
    "def checkAdmin(uid):\n",
    "    cursor.execute('''SELECT COUNT(*) FROM users WHERE admin = ? AND uid= ?''',('True', uid))\n",
    "    all = cursor.fetchone()\n",
    "    if all[0] > 0:\n",
    "        return True\n",
    "    else:\n",
    "        return False\n",
    "\n",
    "# Check fucntion checkAdmin with sample input values\n",
    "# checkAdmin(1)"
   ]
  },
  {
   "cell_type": "code",
   "execution_count": null,
   "metadata": {},
   "outputs": [],
   "source": [
    "# Add new user in the Users table\n",
    "def addUser(userId, uname, uphone, uemail, upassword, uZipcode, admin):\n",
    "    \n",
    "    if checkAdmin(userId):\n",
    "        value = [(uname, uphone, uemail, upassword, uZipcode, admin)]\n",
    "        cursor.executemany('''INSERT INTO users(uname, uphone, uemail, upassword, uZipcode ,admin) \n",
    "                      VALUES(?, ?, ?, ?, ?, ?)''', value)\n",
    "        db.commit()\n",
    "        print(\"Add user success!\")\n",
    "        print(\"User information-\"+\"uname:\"+uname+\" uphone: \"+uphone+\n",
    "              \" uemail: \"+uemail+\" uZipcode: \"+uZipcode+\" admin: \"+ admin)\n",
    "    else:\n",
    "        print(\"You are not a Admin\")\n",
    "        \n",
    "# Check fucntion addUser with sample input values\n",
    "addUser(1, \"Kyle\", 23456, \"d@gmail\", \"Why\", 78705, \"False\")\n",
    "addUser(1, \"Bob\", 85786, \"s@gmail\", \"Dude\", 98690, \"False\")\n",
    "addUser(2, \"Mary\", 85744, \"m@gmail\", \"Life\", 92290, \"False\")"
   ]
  },
  {
   "cell_type": "code",
   "execution_count": 6,
   "metadata": {},
   "outputs": [
    {
     "data": {
      "text/plain": [
       "['0900', '1000']"
      ]
     },
     "execution_count": 6,
     "metadata": {},
     "output_type": "execute_result"
    }
   ],
   "source": [
    "# Calculate 1 hour time slots between start time and end time\n",
    "def CalculateTimeslots(startTime, endTime):\n",
    "    import datetime\n",
    "    startTime = str(startTime)\n",
    "    endTime = str(endTime)\n",
    "    start = datetime.datetime.strptime(startTime,'%H%M')\n",
    "    end = datetime.datetime.strptime(endTime, '%H%M')\n",
    "    slots = []\n",
    "    one_hour = datetime.timedelta(minutes=60)  \n",
    "    while start < end and end >= start + one_hour:\n",
    "            slots.append(start.strftime(\"%H%M\"))\n",
    "            start += one_hour\n",
    "    return slots\n",
    "\n",
    "# Check fucntion CalculateTimeslots with sample input values\n",
    "CalculateTimeslots(\"0900\", \"1100\")\n",
    "CalculateTimeslots(\"0900\", \"1100\")"
   ]
  },
  {
   "cell_type": "code",
   "execution_count": null,
   "metadata": {},
   "outputs": [],
   "source": [
    "# Add a new venue in the Venues tables\n",
    "# Follow 24 hour format for Opening & Closing Time column values \n",
    "def addVenue(userId, VenueName, VenueZipcode, VenueAddress, VenueOpeningTime, VenueClosingTime, VenueSports):\n",
    "   \n",
    "    if checkAdmin(userId):\n",
    "#         VenueTimeSlots = int(len(CalculateTimeslots(VenueOpeningTime,VenueClosingTime))/2)\n",
    "        value = [(VenueName, VenueZipcode, VenueAddress, VenueOpeningTime, VenueClosingTime, VenueSports)]\n",
    "        cursor.executemany('''INSERT INTO Venues(VenueName, VenueZipcode, VenueAddress, VenueOpeningTime, VenueClosingTime,VenueSports) \n",
    "                      VALUES(?, ?, ?, ?, ?, ?)''', value)\n",
    "        db.commit()\n",
    "        print(\"Add Venue success!\")\n",
    "        print(\"Venue Information-\"+\"VenueName:\"+VenueName+\" VenueZipcode:\"+VenueZipcode+\" VenueAddress:\"+VenueAddress\n",
    "             +\" VenueOpeningTime: \"+VenueOpeningTime+\" VenueClosingTime:\"+VenueClosingTime+\" VenueSports:\"+VenueSports)\n",
    "    else:\n",
    "        print(\"User is not authorised to add a new venue\")\n",
    "\n",
    "\n",
    "# Populate Venues table with initial list of 10 venues\n",
    "addVenue(1, \"Venue 1\", \"78705\", \"26th Street\", \"0900\", \"1800\", \"Football\")\n",
    "addVenue(1, \"Venue 2\", \"78706\", \"27th Street\", \"0900\", \"1700\", \"Basketball\")\n",
    "addVenue(1, \"Venue 3\", \"78707\", \"28th Street\", \"0900\", \"1600\", \"Tennis\")\n",
    "addVenue(1, \"Venue 4\", \"78708\", \"29th Street\", \"0900\", \"1500\", \"Swimming\")\n",
    "addVenue(1, \"Venue 5\", \"78709\", \"30th Street\", \"0900\", \"1400\", \"Cricket\")\n",
    "addVenue(1, \"Venue 6\", \"78700\", \"34th Street\", \"1000\", \"1800\", \"Football\")\n",
    "addVenue(1, \"Venue 7\", \"78701\", \"35th Street\", \"1100\", \"1800\", \"Basketball\")\n",
    "addVenue(1, \"Venue 8\", \"78702\", \"36th Street\", \"1200\", \"1800\", \"Tennis\")\n",
    "addVenue(1, \"Venue 9\", \"78703\", \"37th Street\", \"1300\", \"1800\", \"Swimming\")\n",
    "addVenue(1, \"Venue 10\", \"78704\", \"38th Street\", \"1200\", \"1700\", \"Cricket\")\n",
    "addVenue(2, \"Venue 11\", \"78710\", \"39th Street\", \"0900\", \"1600\", \"Football, Hockey\")"
   ]
  },
  {
   "cell_type": "code",
   "execution_count": 8,
   "metadata": {},
   "outputs": [
    {
     "name": "stdout",
     "output_type": "stream",
     "text": [
      "Create Event success!\n",
      "{'1000': 'Booked', '1100': 'Booked', '1200': 'Booked', '1300': 'Booked', '1400': 'Booked', '1500': 'Available', '1600': 'Available', '1700': 'Available'}\n"
     ]
    }
   ],
   "source": [
    "# Add new event in Event table\n",
    "def CreateEvent(EventHost, VenueId, EventName, EventDate, EventSport, EventTeamSize, \n",
    "                EventDesc, EventStartTime, EventEndTime):\n",
    "    EventStartTime = str(EventStartTime)\n",
    "    EventEndTime = str(EventEndTime)\n",
    "    EventSpotsLeft = EventTeamSize - 1\n",
    "    value = [(EventName, EventDate, EventSport, EventTeamSize, \n",
    "                EventSpotsLeft, EventDesc, VenueId, EventHost, EventStartTime,EventEndTime)]\n",
    "    cursor.executemany('''INSERT INTO Events(EventName,EventDate, EventSport, EventTeamSize, \n",
    "                EventSpotsLeft, EventDesc, VenueId, EventHost, EventStartTime, EventEndTime) \n",
    "                      VALUES(?, ?, ?, ?, ?, ?, ?, ?, ?, ?)''', value)\n",
    "    db.commit()\n",
    "    print(\"Create Event success!\")\n",
    "    \n",
    "#   update avaliable timeslot\n",
    "    venueTimeSlot = SingleVenueAllTimeslotAvailability(VenueId, EventDate)\n",
    "    eventTimeSlot = CalculateTimeslots(EventStartTime, EventEndTime)\n",
    "    for x in venueTimeSlot:\n",
    "        for y in eventTimeSlot:\n",
    "            if x == y:\n",
    "                venueTimeSlot[x] = 'Booked'\n",
    "            else:\n",
    "                pass\n",
    "    print(venueTimeSlot)\n",
    "#   update user event\n",
    "    cursor.execute('''SELECT EventId FROM Events WHERE EventName = ? AND EventDate = ?''',(EventName, EventDate,))\n",
    "    EventId = cursor.fetchone()[0]\n",
    "    EventHost = int(EventHost)\n",
    "    cursor.execute('''INSERT INTO User_Events(EventId, uid) VALUES(?, ?)''',(EventId, EventHost) )\n",
    "    db.commit()\n",
    "\n",
    "#     print(\"Event information- \" +\"EventHost:\"+EventHost+\"VenueId:\"+VenueId+\"EventName:\"+EventName+\"EventDate:\"+EventDate\n",
    "#           +\"EventSport:\"+EventSport+\"EventTeamSize:\"+EventTeamSize+\"EventSpotsLeft:\" +EventSpotsLeft\n",
    "#           +\"EventStartTime: \"+EventStartTime+\"EventEndTime: \"+EventEndTime+\"EventDesc: \"+EventDesc)\n",
    "\n",
    "# Check fucntion CreateEvent with sample input values\n",
    "# CreateEvent(2,'wrtg','arg','argg','arg',5, 5,'argrg','argr')\n",
    "CreateEvent(1, 1, 'happy', '2019-03-02', 'baseball', 10,'tyh','0900', '1500')"
   ]
  },
  {
   "cell_type": "code",
   "execution_count": null,
   "metadata": {},
   "outputs": [],
   "source": [
    "#remove Event\n",
    "def removeEvent(userId, EventName, EventDate):\n",
    "    if checkAdmin(userId) == True:\n",
    "        cursor.execute('''SELECT * FROM Events WHERE EventName = ? and EventDate = ?''', (EventName,EventDate,))\n",
    "        removedEvent = cursor.fetchone()\n",
    "        if removedEvent != None:\n",
    "            cursor.execute('''DELETE FROM Events WHERE EventName = ? and EventDate = ?''', (EventName,EventDate,))\n",
    "            db.commit()\n",
    "            print(\"Remove the event success!\")\n",
    "            print(\"Removed event information- \", removedEvent)\n",
    "        else:\n",
    "            print(\"No such event!\")\n",
    "    else:\n",
    "        print(\"User is not authorised to remove a event\")"
   ]
  },
  {
   "cell_type": "code",
   "execution_count": null,
   "metadata": {},
   "outputs": [],
   "source": [
    "removeEvent(4, 'errr', 'gwtg')"
   ]
  },
  {
   "cell_type": "code",
   "execution_count": null,
   "metadata": {},
   "outputs": [],
   "source": [
    "def listEvent(VenueName, VenueZipcode, EventDate, EventStartTime, EventEndTime):\n",
    "    cursor.execute('''SELECT * , Venues.VenueName, Venues.VenueZipcode FROM Events \n",
    "    INNER JOIN Venues ON Events.VenueId = Venues.VenueId\n",
    "    WHERE EventDate = ? and EventStartTime = ? and EventEndTime = ?''', \n",
    "                   (EventDate, EventStartTime, EventEndTime))\n",
    "    all = cursor.fetchall()\n",
    "    if all != []:\n",
    "        for event in all:\n",
    "            print(event)\n",
    "    else:\n",
    "        print(\"No any Event!\")"
   ]
  },
  {
   "cell_type": "code",
   "execution_count": null,
   "metadata": {},
   "outputs": [],
   "source": [
    "listEvent('happy', '78705', 'erg', 'wrtg', '55y')"
   ]
  },
  {
   "cell_type": "code",
   "execution_count": 7,
   "metadata": {},
   "outputs": [
    {
     "data": {
      "text/plain": [
       "{'1000': 'Available',\n",
       " '1100': 'Available',\n",
       " '1200': 'Available',\n",
       " '1300': 'Available',\n",
       " '1400': 'Available',\n",
       " '1500': 'Available',\n",
       " '1600': 'Available',\n",
       " '1700': 'Available'}"
      ]
     },
     "execution_count": 7,
     "metadata": {},
     "output_type": "execute_result"
    }
   ],
   "source": [
    "# Display timeslot availability at a venue on a given date\n",
    "# User entry for Date value to follow this format ‘YYYY-MM-DD’\n",
    "def SingleVenueAllTimeslotAvailability (VenueId, Date):\n",
    "    cursor.execute('''SELECT VenueOpeningTime, VenueClosingTime FROM Venues WHERE VenueId = ?''',(VenueId,))\n",
    "    vCheck = cursor.fetchall()\n",
    "    VenueTimeSlots = CalculateTimeslots(vCheck[0][0], vCheck[0][1])\n",
    "    # Create a dictionary of venue timeslots as key and default value as available\n",
    "    dictOfVenues = dict.fromkeys(VenueTimeSlots)\n",
    "    for k,v in dictOfVenues.items():\n",
    "        dictOfVenues[k] = 'Available'\n",
    "    cursor.execute('''SELECT EventStartTime,EventEndTime FROM Events WHERE VenueId = ? AND EventDate = ?''',(VenueId,Date))\n",
    "    eCheck = cursor.fetchall()\n",
    "    EventDict = dict(eCheck)\n",
    "    # Create a list of Event time slots - storing only the starting time\n",
    "    EventTimeSlots = []\n",
    "    for key,value in EventDict.items():\n",
    "       EventTimeSlots.append(CalculateTimeslots(key, value))\n",
    "    # If Event timeslot found in Venue Dictionary then update value of key as booked\n",
    "    for x in EventTimeSlots:\n",
    "        if x[0] in dictOfVenues:\n",
    "            dictOfVenues[x[0]] = 'Booked'\n",
    "    Available_Venues = {key:value for key,value in dictOfVenues.items() if dictOfVenues[key] == 'Available'}\n",
    "    return Available_Venues\n",
    "# Sample function call for testing\n",
    "SingleVenueAllTimeslotAvailability (1, '2019-03-02')"
   ]
  },
  {
   "cell_type": "code",
   "execution_count": null,
   "metadata": {},
   "outputs": [],
   "source": []
  }
 ],
 "metadata": {
  "kernelspec": {
   "display_name": "Python 3",
   "language": "python",
   "name": "python3"
  },
  "language_info": {
   "codemirror_mode": {
    "name": "ipython",
    "version": 3
   },
   "file_extension": ".py",
   "mimetype": "text/x-python",
   "name": "python",
   "nbconvert_exporter": "python",
   "pygments_lexer": "ipython3",
   "version": "3.7.3"
  }
 },
 "nbformat": 4,
 "nbformat_minor": 2
}
